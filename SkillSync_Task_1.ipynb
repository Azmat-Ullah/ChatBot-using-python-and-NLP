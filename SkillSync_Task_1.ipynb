{
  "nbformat": 4,
  "nbformat_minor": 0,
  "metadata": {
    "colab": {
      "provenance": []
    },
    "kernelspec": {
      "name": "python3",
      "display_name": "Python 3"
    },
    "language_info": {
      "name": "python"
    }
  },
  "cells": [
    {
      "cell_type": "code",
      "execution_count": 17,
      "metadata": {
        "colab": {
          "base_uri": "https://localhost:8080/"
        },
        "id": "3Y_hBoOTPCC0",
        "outputId": "5c05e951-ebf8-4cd9-9a58-ed096ddf0166"
      },
      "outputs": [
        {
          "output_type": "stream",
          "name": "stdout",
          "text": [
            "Hello! I'm ChatBot. Type 'quit' to exit.\n",
            "You: quit\n",
            "ChatBot: Goodbye!\n"
          ]
        }
      ],
      "source": [
        "import nltk\n",
        "from nltk.chat.util import Chat, reflections\n",
        "\n",
        "# Define patterns and responses\n",
        "patterns = [\n",
        "    (\"hello|hey|hi\", [\"Hey! I am chat bot of SkillSync Interns.\"]),\n",
        "    (\"what is your name\", ['I am a simple chatbot.', 'You can call me ChatBot.']),\n",
        "    (\"How are you\", [\"I'm good, thanks!\", \"I'm just a computer program, so I don't have feelings, but I'm here to help!\"]),\n",
        "    (\"bye\", [\"Goodbye!\", \"See you later!\", \"Have a great day!\"]),\n",
        "    (\".*\", [\"I'm not sure what you mean.\", \"Could you please rephrase that?\", \"I don't understand.\"]), #default response\n",
        "    # Add your own patterns and responses here\n",
        "]\n",
        "\n",
        "# Create a chatbot\n",
        "chatbot = Chat(patterns, reflections)\n",
        "\n",
        "# Function to start the chat\n",
        "def start_chat():\n",
        "    print(\"Hello! I'm ChatBot. Type 'quit' to exit.\")\n",
        "    while True:\n",
        "        user_input = input(\"You: \")\n",
        "        if user_input.lower() == 'quit':\n",
        "            print(\"ChatBot: Goodbye!\")\n",
        "            break\n",
        "        response = chatbot.respond(user_input)\n",
        "        print(\"ChatBot:\", response)\n",
        "\n",
        "# Download NLTK data (only need to do this once)\n",
        "#nltk.download('punkt')\n",
        "\n",
        "# Start the chat\n",
        "start_chat()\n"
      ]
    },
    {
      "cell_type": "code",
      "source": [
        "reflections\n"
      ],
      "metadata": {
        "colab": {
          "base_uri": "https://localhost:8080/"
        },
        "id": "k5nKYBYfPYdq",
        "outputId": "369db9ce-9504-49d6-871e-e0252e2d027e"
      },
      "execution_count": null,
      "outputs": [
        {
          "output_type": "execute_result",
          "data": {
            "text/plain": [
              "{'i am': 'you are',\n",
              " 'i was': 'you were',\n",
              " 'i': 'you',\n",
              " \"i'm\": 'you are',\n",
              " \"i'd\": 'you would',\n",
              " \"i've\": 'you have',\n",
              " \"i'll\": 'you will',\n",
              " 'my': 'your',\n",
              " 'you are': 'I am',\n",
              " 'you were': 'I was',\n",
              " \"you've\": 'I have',\n",
              " \"you'll\": 'I will',\n",
              " 'your': 'my',\n",
              " 'yours': 'mine',\n",
              " 'you': 'me',\n",
              " 'me': 'you'}"
            ]
          },
          "metadata": {},
          "execution_count": 2
        }
      ]
    }
  ]
}